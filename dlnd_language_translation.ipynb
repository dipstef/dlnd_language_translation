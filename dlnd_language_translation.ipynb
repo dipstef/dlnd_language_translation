{
 "cells": [
  {
   "cell_type": "markdown",
   "metadata": {
    "collapsed": true,
    "deletable": true,
    "editable": true
   },
   "source": [
    "# Language Translation\n",
    "In this project, you’re going to take a peek into the realm of neural network machine translation.  You’ll be training a sequence to sequence model on a dataset of English and French sentences that can translate new sentences from English to French.\n",
    "## Get the Data\n",
    "Since translating the whole language of English to French will take lots of time to train, we have provided you with a small portion of the English corpus."
   ]
  },
  {
   "cell_type": "code",
   "execution_count": 1,
   "metadata": {
    "collapsed": true,
    "deletable": true,
    "editable": true
   },
   "outputs": [],
   "source": [
    "\"\"\"\n",
    "DON'T MODIFY ANYTHING IN THIS CELL\n",
    "\"\"\"\n",
    "import helper\n",
    "import problem_unittests as tests\n",
    "\n",
    "source_path = 'data/small_vocab_en'\n",
    "target_path = 'data/small_vocab_fr'\n",
    "source_text = helper.load_data(source_path)\n",
    "target_text = helper.load_data(target_path)"
   ]
  },
  {
   "cell_type": "markdown",
   "metadata": {
    "deletable": true,
    "editable": true
   },
   "source": [
    "## Explore the Data\n",
    "Play around with view_sentence_range to view different parts of the data."
   ]
  },
  {
   "cell_type": "code",
   "execution_count": 2,
   "metadata": {
    "collapsed": false,
    "deletable": true,
    "editable": true
   },
   "outputs": [
    {
     "name": "stdout",
     "output_type": "stream",
     "text": [
      "Dataset Stats\n",
      "Roughly the number of unique words: 227\n",
      "Number of sentences: 137861\n",
      "Average number of words in a sentence: 13.225277634719028\n",
      "\n",
      "English sentences 0 to 10:\n",
      "new jersey is sometimes quiet during autumn , and it is snowy in april .\n",
      "the united states is usually chilly during july , and it is usually freezing in november .\n",
      "california is usually quiet during march , and it is usually hot in june .\n",
      "the united states is sometimes mild during june , and it is cold in september .\n",
      "your least liked fruit is the grape , but my least liked is the apple .\n",
      "his favorite fruit is the orange , but my favorite is the grape .\n",
      "paris is relaxing during december , but it is usually chilly in july .\n",
      "new jersey is busy during spring , and it is never hot in march .\n",
      "our least liked fruit is the lemon , but my least liked is the grape .\n",
      "the united states is sometimes busy during january , and it is sometimes warm in november .\n",
      "\n",
      "French sentences 0 to 10:\n",
      "new jersey est parfois calme pendant l' automne , et il est neigeux en avril .\n",
      "les états-unis est généralement froid en juillet , et il gèle habituellement en novembre .\n",
      "california est généralement calme en mars , et il est généralement chaud en juin .\n",
      "les états-unis est parfois légère en juin , et il fait froid en septembre .\n",
      "votre moins aimé fruit est le raisin , mais mon moins aimé est la pomme .\n",
      "son fruit préféré est l'orange , mais mon préféré est le raisin .\n",
      "paris est relaxant en décembre , mais il est généralement froid en juillet .\n",
      "new jersey est occupé au printemps , et il est jamais chaude en mars .\n",
      "notre fruit est moins aimé le citron , mais mon moins aimé est le raisin .\n",
      "les états-unis est parfois occupé en janvier , et il est parfois chaud en novembre .\n"
     ]
    }
   ],
   "source": [
    "view_sentence_range = (0, 10)\n",
    "\n",
    "\"\"\"\n",
    "DON'T MODIFY ANYTHING IN THIS CELL\n",
    "\"\"\"\n",
    "import numpy as np\n",
    "\n",
    "print('Dataset Stats')\n",
    "print('Roughly the number of unique words: {}'.format(len({word: None for word in source_text.split()})))\n",
    "\n",
    "sentences = source_text.split('\\n')\n",
    "word_counts = [len(sentence.split()) for sentence in sentences]\n",
    "print('Number of sentences: {}'.format(len(sentences)))\n",
    "print('Average number of words in a sentence: {}'.format(np.average(word_counts)))\n",
    "\n",
    "print()\n",
    "print('English sentences {} to {}:'.format(*view_sentence_range))\n",
    "print('\\n'.join(source_text.split('\\n')[view_sentence_range[0]:view_sentence_range[1]]))\n",
    "print()\n",
    "print('French sentences {} to {}:'.format(*view_sentence_range))\n",
    "print('\\n'.join(target_text.split('\\n')[view_sentence_range[0]:view_sentence_range[1]]))"
   ]
  },
  {
   "cell_type": "markdown",
   "metadata": {
    "deletable": true,
    "editable": true
   },
   "source": [
    "## Implement Preprocessing Function\n",
    "### Text to Word Ids\n",
    "As you did with other RNNs, you must turn the text into a number so the computer can understand it. In the function `text_to_ids()`, you'll turn `source_text` and `target_text` from words to ids.  However, you need to add the `<EOS>` word id at the end of `target_text`.  This will help the neural network predict when the sentence should end.\n",
    "\n",
    "You can get the `<EOS>` word id by doing:\n",
    "```python\n",
    "target_vocab_to_int['<EOS>']\n",
    "```\n",
    "You can get other word ids using `source_vocab_to_int` and `target_vocab_to_int`."
   ]
  },
  {
   "cell_type": "code",
   "execution_count": 3,
   "metadata": {
    "collapsed": false,
    "deletable": true,
    "editable": true
   },
   "outputs": [
    {
     "name": "stdout",
     "output_type": "stream",
     "text": [
      "Tests Passed\n"
     ]
    }
   ],
   "source": [
    "def text_to_ids(source_text, target_text, source_vocab_to_int, target_vocab_to_int):\n",
    "    \"\"\"\n",
    "    Convert source and target text to proper word ids\n",
    "    :param source_text: String that contains all the source text.\n",
    "    :param target_text: String that contains all the target text.\n",
    "    :param source_vocab_to_int: Dictionary to go from the source words to an id\n",
    "    :param target_vocab_to_int: Dictionary to go from the target words to an id\n",
    "    :return: A tuple of lists (source_id_text, target_id_text)\n",
    "    \"\"\"\n",
    "    eos = source_vocab_to_int['<EOS>']\n",
    "\n",
    "    source = source_text.split('\\n')\n",
    "    target = target_text.split('\\n')\n",
    "\n",
    "    source = [[source_vocab_to_int[word] for word in sentence.split()] for sentence in source]\n",
    "    target = [[target_vocab_to_int[word] for word in sentence.split()] + [eos] for sentence in target]\n",
    "\n",
    "    return source, target\n",
    "\n",
    "\"\"\"\n",
    "DON'T MODIFY ANYTHING IN THIS CELL THAT IS BELOW THIS LINE\n",
    "\"\"\"\n",
    "tests.test_text_to_ids(text_to_ids)"
   ]
  },
  {
   "cell_type": "markdown",
   "metadata": {
    "deletable": true,
    "editable": true
   },
   "source": [
    "### Preprocess all the data and save it\n",
    "Running the code cell below will preprocess all the data and save it to file."
   ]
  },
  {
   "cell_type": "code",
   "execution_count": 4,
   "metadata": {
    "collapsed": true,
    "deletable": true,
    "editable": true
   },
   "outputs": [],
   "source": [
    "\"\"\"\n",
    "DON'T MODIFY ANYTHING IN THIS CELL\n",
    "\"\"\"\n",
    "helper.preprocess_and_save_data(source_path, target_path, text_to_ids)"
   ]
  },
  {
   "cell_type": "markdown",
   "metadata": {
    "deletable": true,
    "editable": true
   },
   "source": [
    "# Check Point\n",
    "This is your first checkpoint. If you ever decide to come back to this notebook or have to restart the notebook, you can start from here. The preprocessed data has been saved to disk."
   ]
  },
  {
   "cell_type": "code",
   "execution_count": 5,
   "metadata": {
    "collapsed": true,
    "deletable": true,
    "editable": true
   },
   "outputs": [],
   "source": [
    "\"\"\"\n",
    "DON'T MODIFY ANYTHING IN THIS CELL\n",
    "\"\"\"\n",
    "import numpy as np\n",
    "import helper\n",
    "import problem_unittests as tests\n",
    "\n",
    "(source_int_text, target_int_text), (source_vocab_to_int, target_vocab_to_int), _ = helper.load_preprocess()"
   ]
  },
  {
   "cell_type": "markdown",
   "metadata": {
    "deletable": true,
    "editable": true
   },
   "source": [
    "### Check the Version of TensorFlow and Access to GPU\n",
    "This will check to make sure you have the correct version of TensorFlow and access to a GPU"
   ]
  },
  {
   "cell_type": "code",
   "execution_count": 6,
   "metadata": {
    "collapsed": false,
    "deletable": true,
    "editable": true
   },
   "outputs": [
    {
     "name": "stdout",
     "output_type": "stream",
     "text": [
      "TensorFlow Version: 1.1.0\n",
      "Default GPU Device: /gpu:0\n"
     ]
    }
   ],
   "source": [
    "\"\"\"\n",
    "DON'T MODIFY ANYTHING IN THIS CELL\n",
    "\"\"\"\n",
    "from distutils.version import LooseVersion\n",
    "import warnings\n",
    "import tensorflow as tf\n",
    "from tensorflow.python.layers.core import Dense\n",
    "\n",
    "# Check TensorFlow Version\n",
    "\n",
    "assert LooseVersion(tf.__version__) >= LooseVersion('1.1'), 'Please use TensorFlow version 1.1 or newer'\n",
    "print('TensorFlow Version: {}'.format(tf.__version__))\n",
    "\n",
    "# Check for a GPU\n",
    "if not tf.test.gpu_device_name():\n",
    "    warnings.warn('No GPU found. Please use a GPU to train your neural network.')\n",
    "else:\n",
    "    print('Default GPU Device: {}'.format(tf.test.gpu_device_name()))"
   ]
  },
  {
   "cell_type": "markdown",
   "metadata": {
    "deletable": true,
    "editable": true
   },
   "source": [
    "## Build the Neural Network\n",
    "You'll build the components necessary to build a Sequence-to-Sequence model by implementing the following functions below:\n",
    "- `model_inputs`\n",
    "- `process_decoder_input`\n",
    "- `encoding_layer`\n",
    "- `decoding_layer_train`\n",
    "- `decoding_layer_infer`\n",
    "- `decoding_layer`\n",
    "- `seq2seq_model`\n",
    "\n",
    "### Input\n",
    "Implement the `model_inputs()` function to create TF Placeholders for the Neural Network. It should create the following placeholders:\n",
    "\n",
    "- Input text placeholder named \"input\" using the TF Placeholder name parameter with rank 2.\n",
    "- Targets placeholder with rank 2.\n",
    "- Learning rate placeholder with rank 0.\n",
    "- Keep probability placeholder named \"keep_prob\" using the TF Placeholder name parameter with rank 0.\n",
    "- Target sequence length placeholder named \"target_sequence_length\" with rank 1\n",
    "- Max target sequence length tensor named \"max_target_len\" getting its value from applying tf.reduce_max on the target_sequence_length placeholder. Rank 0.\n",
    "- Source sequence length placeholder named \"source_sequence_length\" with rank 1\n",
    "\n",
    "Return the placeholders in the following the tuple (input, targets, learning rate, keep probability, target sequence length, max target sequence length, source sequence length)"
   ]
  },
  {
   "cell_type": "code",
   "execution_count": 7,
   "metadata": {
    "collapsed": false,
    "deletable": true,
    "editable": true
   },
   "outputs": [
    {
     "name": "stdout",
     "output_type": "stream",
     "text": [
      "Tests Passed\n"
     ]
    }
   ],
   "source": [
    "def model_inputs():\n",
    "    \"\"\"\n",
    "    Create TF Placeholders for input, targets, learning rate, and lengths of source and target sequences.\n",
    "    :return: Tuple (input, targets, learning rate, keep probability, target sequence length,\n",
    "    max target sequence length, source sequence length)\n",
    "    \"\"\"\n",
    "    input_ = tf.placeholder(tf.int32, shape=(None, None), name='input')\n",
    "    targets = tf.placeholder(tf.int32, shape=(None, None), name='targets')\n",
    "    learning_rate = tf.placeholder(tf.float32, shape=(), name='learning_rate')\n",
    "\n",
    "    keep_prob = tf.placeholder(tf.float32, shape=(), name='keep_prob')\n",
    "\n",
    "    target_sequence_len = tf.placeholder(tf.int32, shape=(None, ), name='target_sequence_length')\n",
    "    max_target_len = tf.reduce_max(target_sequence_len, name='max_target_len')\n",
    "    source_sequence_len = tf.placeholder(tf.int32, shape=(None, ), name='source_sequence_length')\n",
    "\n",
    "    return (input_, targets, learning_rate,\n",
    "            keep_prob,\n",
    "            target_sequence_len, max_target_len, source_sequence_len)\n",
    "\n",
    "\n",
    "\"\"\"\n",
    "DON'T MODIFY ANYTHING IN THIS CELL THAT IS BELOW THIS LINE\n",
    "\"\"\"\n",
    "tests.test_model_inputs(model_inputs)"
   ]
  },
  {
   "cell_type": "markdown",
   "metadata": {
    "deletable": true,
    "editable": true
   },
   "source": [
    "### Process Decoder Input\n",
    "Implement `process_decoder_input` by removing the last word id from each batch in `target_data` and concat the GO ID to the begining of each batch."
   ]
  },
  {
   "cell_type": "code",
   "execution_count": 8,
   "metadata": {
    "collapsed": false,
    "deletable": true,
    "editable": true
   },
   "outputs": [
    {
     "name": "stdout",
     "output_type": "stream",
     "text": [
      "Tests Passed\n"
     ]
    }
   ],
   "source": [
    "def process_decoder_input(target_data, target_vocab_to_int, batch_size):\n",
    "    \"\"\"\n",
    "    Preprocess target data for encoding\n",
    "    :param target_data: Target Placehoder\n",
    "    :param target_vocab_to_int: Dictionary to go from the target words to an id\n",
    "    :param batch_size: Batch Size\n",
    "    :return: Preprocessed target data\n",
    "    \"\"\"\n",
    "    ending = tf.strided_slice(target_data, [0, 0], [batch_size, -1], [1, 1])\n",
    "    \n",
    "    return tf.concat([tf.fill([batch_size, 1], target_vocab_to_int['<GO>']), ending], 1)\n",
    "\n",
    "\"\"\"\n",
    "DON'T MODIFY ANYTHING IN THIS CELL THAT IS BELOW THIS LINE\n",
    "\"\"\"\n",
    "tests.test_process_encoding_input(process_decoder_input)"
   ]
  },
  {
   "cell_type": "markdown",
   "metadata": {
    "deletable": true,
    "editable": true
   },
   "source": [
    "### Encoding\n",
    "Implement `encoding_layer()` to create a Encoder RNN layer:\n",
    " * Embed the encoder input using [`tf.contrib.layers.embed_sequence`](https://www.tensorflow.org/api_docs/python/tf/contrib/layers/embed_sequence)\n",
    " * Construct a [stacked](https://github.com/tensorflow/tensorflow/blob/6947f65a374ebf29e74bb71e36fd82760056d82c/tensorflow/docs_src/tutorials/recurrent.md#stacking-multiple-lstms) [`tf.contrib.rnn.LSTMCell`](https://www.tensorflow.org/api_docs/python/tf/contrib/rnn/LSTMCell) wrapped in a [`tf.contrib.rnn.DropoutWrapper`](https://www.tensorflow.org/api_docs/python/tf/contrib/rnn/DropoutWrapper)\n",
    " * Pass cell and embedded input to [`tf.nn.dynamic_rnn()`](https://www.tensorflow.org/api_docs/python/tf/nn/dynamic_rnn)"
   ]
  },
  {
   "cell_type": "code",
   "execution_count": 9,
   "metadata": {
    "collapsed": false,
    "deletable": true,
    "editable": true,
    "scrolled": false
   },
   "outputs": [
    {
     "name": "stdout",
     "output_type": "stream",
     "text": [
      "Tests Passed\n"
     ]
    }
   ],
   "source": [
    "from imp import reload\n",
    "reload(tests)\n",
    "\n",
    "def encoding_layer(rnn_inputs, rnn_size, num_layers, keep_prob,\n",
    "                   source_sequence_length, source_vocab_size,\n",
    "                   encoding_embedding_size):\n",
    "    \"\"\"\n",
    "    Create encoding layer\n",
    "    :param rnn_inputs: Inputs for the RNN\n",
    "    :param rnn_size: RNN Size\n",
    "    :param num_layers: Number of layers\n",
    "    :param keep_prob: Dropout keep probability\n",
    "    :param source_sequence_length: a list of the lengths of each sequence in the batch\n",
    "    :param source_vocab_size: vocabulary size of source data\n",
    "    :param encoding_embedding_size: embedding size of source data\n",
    "    :return: tuple (RNN output, RNN state)\n",
    "    \"\"\"\n",
    "    enc_embed_input = tf.contrib.layers.embed_sequence(rnn_inputs, \n",
    "                                                       vocab_size=source_vocab_size,\n",
    "                                                       embed_dim=encoding_embedding_size)\n",
    "\n",
    "    def rnn_cell(size):\n",
    "        return tf.contrib.rnn.DropoutWrapper(\n",
    "            tf.contrib.rnn.LSTMCell(size, initializer=tf.random_uniform_initializer(-0.1, 0.1, seed=2)),\n",
    "            input_keep_prob=keep_prob\n",
    "        )\n",
    "\n",
    "    enc_cell = tf.contrib.rnn.MultiRNNCell([rnn_cell(rnn_size) for _ in range(num_layers)])\n",
    "\n",
    "    enc_output, enc_state = tf.nn.dynamic_rnn(enc_cell,\n",
    "                                              inputs=enc_embed_input,\n",
    "                                              sequence_length=source_sequence_length,\n",
    "                                              dtype=tf.float32)\n",
    "\n",
    "    return enc_output, enc_state\n",
    "\n",
    "\"\"\"\n",
    "DON'T MODIFY ANYTHING IN THIS CELL THAT IS BELOW THIS LINE\n",
    "\"\"\"\n",
    "tests.test_encoding_layer(encoding_layer)"
   ]
  },
  {
   "cell_type": "markdown",
   "metadata": {
    "deletable": true,
    "editable": true
   },
   "source": [
    "### Decoding - Training\n",
    "Create a training decoding layer:\n",
    "* Create a [`tf.contrib.seq2seq.TrainingHelper`](https://www.tensorflow.org/api_docs/python/tf/contrib/seq2seq/TrainingHelper) \n",
    "* Create a [`tf.contrib.seq2seq.BasicDecoder`](https://www.tensorflow.org/api_docs/python/tf/contrib/seq2seq/BasicDecoder)\n",
    "* Obtain the decoder outputs from [`tf.contrib.seq2seq.dynamic_decode`](https://www.tensorflow.org/api_docs/python/tf/contrib/seq2seq/dynamic_decode)"
   ]
  },
  {
   "cell_type": "code",
   "execution_count": 10,
   "metadata": {
    "collapsed": false,
    "deletable": true,
    "editable": true
   },
   "outputs": [
    {
     "name": "stdout",
     "output_type": "stream",
     "text": [
      "Tests Passed\n"
     ]
    }
   ],
   "source": [
    "def decoding_layer_train(encoder_state, dec_cell, dec_embed_input,\n",
    "                         target_sequence_length, max_summary_length,\n",
    "                         output_layer, keep_prob):\n",
    "    \"\"\"\n",
    "    Create a decoding layer for training\n",
    "    :param encoder_state: Encoder State\n",
    "    :param dec_cell: Decoder RNN Cell\n",
    "    :param dec_embed_input: Decoder embedded input\n",
    "    :param target_sequence_length: The lengths of each sequence in the target batch\n",
    "    :param max_summary_length: The length of the longest sequence in the batch\n",
    "    :param output_layer: Function to apply the output layer\n",
    "    :param keep_prob: Dropout keep probability\n",
    "    :return: BasicDecoderOutput containing training logits and sample_id\n",
    "    \"\"\"\n",
    "    from tensorflow.contrib import seq2seq\n",
    "\n",
    "    helper = seq2seq.TrainingHelper(dec_embed_input, sequence_length=target_sequence_length)\n",
    "\n",
    "    decoder = seq2seq.BasicDecoder(dec_cell,\n",
    "                                   helper=helper,\n",
    "                                   initial_state=encoder_state,\n",
    "                                   output_layer=output_layer)\n",
    "\n",
    "    output = seq2seq.dynamic_decode(decoder,\n",
    "                                    impute_finished=True,\n",
    "                                    maximum_iterations=max_summary_length)[0]\n",
    "    return output\n",
    "\n",
    "\n",
    "\n",
    "\"\"\"\n",
    "DON'T MODIFY ANYTHING IN THIS CELL THAT IS BELOW THIS LINE\n",
    "\"\"\"\n",
    "tests.test_decoding_layer_train(decoding_layer_train)"
   ]
  },
  {
   "cell_type": "markdown",
   "metadata": {
    "deletable": true,
    "editable": true
   },
   "source": [
    "### Decoding - Inference\n",
    "Create inference decoder:\n",
    "* Create a [`tf.contrib.seq2seq.GreedyEmbeddingHelper`](https://www.tensorflow.org/api_docs/python/tf/contrib/seq2seq/GreedyEmbeddingHelper)\n",
    "* Create a [`tf.contrib.seq2seq.BasicDecoder`](https://www.tensorflow.org/api_docs/python/tf/contrib/seq2seq/BasicDecoder)\n",
    "* Obtain the decoder outputs from [`tf.contrib.seq2seq.dynamic_decode`](https://www.tensorflow.org/api_docs/python/tf/contrib/seq2seq/dynamic_decode)"
   ]
  },
  {
   "cell_type": "code",
   "execution_count": 11,
   "metadata": {
    "collapsed": false,
    "deletable": true,
    "editable": true,
    "scrolled": true
   },
   "outputs": [
    {
     "name": "stdout",
     "output_type": "stream",
     "text": [
      "Tests Passed\n"
     ]
    }
   ],
   "source": [
    "def decoding_layer_infer(encoder_state, dec_cell, dec_embeddings, start_of_sequence_id,\n",
    "                         end_of_sequence_id, max_target_sequence_length,\n",
    "                         vocab_size, output_layer, batch_size, keep_prob):\n",
    "    \"\"\"\n",
    "    Create a decoding layer for inference\n",
    "    :param encoder_state: Encoder state\n",
    "    :param dec_cell: Decoder RNN Cell\n",
    "    :param dec_embeddings: Decoder embeddings\n",
    "    :param start_of_sequence_id: GO ID\n",
    "    :param end_of_sequence_id: EOS Id\n",
    "    :param max_target_sequence_length: Maximum length of target sequences\n",
    "    :param vocab_size: Size of decoder/target vocabulary\n",
    "    :param decoding_scope: TenorFlow Variable Scope for decoding\n",
    "    :param output_layer: Function to apply the output layer\n",
    "    :param batch_size: Batch size\n",
    "    :param keep_prob: Dropout keep probability\n",
    "    :return: BasicDecoderOutput containing inference logits and sample_id\n",
    "    \"\"\"\n",
    "    from tensorflow.contrib import seq2seq\n",
    "\n",
    "    start_tokens = tf.tile(tf.constant([start_of_sequence_id], dtype=tf.int32),\n",
    "                           multiples=[batch_size],\n",
    "                           name='start_tokens')\n",
    "\n",
    "    helper = seq2seq.GreedyEmbeddingHelper(dec_embeddings,\n",
    "                                           start_tokens=start_tokens,\n",
    "                                           end_token=end_of_sequence_id)\n",
    "\n",
    "    decoder = seq2seq.BasicDecoder(dec_cell,\n",
    "                                   helper=helper,\n",
    "                                   initial_state=encoder_state,\n",
    "                                   output_layer=output_layer)\n",
    "\n",
    "    # Perform dynamic decoding using the decoder\n",
    "    output = seq2seq.dynamic_decode(decoder,\n",
    "                                    impute_finished=True,\n",
    "                                    maximum_iterations=max_target_sequence_length)[0]\n",
    "\n",
    "    return output\n",
    "\n",
    "\n",
    "\n",
    "\"\"\"\n",
    "DON'T MODIFY ANYTHING IN THIS CELL THAT IS BELOW THIS LINE\n",
    "\"\"\"\n",
    "tests.test_decoding_layer_infer(decoding_layer_infer)"
   ]
  },
  {
   "cell_type": "markdown",
   "metadata": {
    "deletable": true,
    "editable": true
   },
   "source": [
    "### Build the Decoding Layer\n",
    "Implement `decoding_layer()` to create a Decoder RNN layer.\n",
    "\n",
    "* Embed the target sequences\n",
    "* Construct the decoder LSTM cell (just like you constructed the encoder cell above)\n",
    "* Create an output layer to map the outputs of the decoder to the elements of our vocabulary\n",
    "* Use the your `decoding_layer_train(encoder_state, dec_cell, dec_embed_input, target_sequence_length, max_target_sequence_length, output_layer, keep_prob)` function to get the training logits.\n",
    "* Use your `decoding_layer_infer(encoder_state, dec_cell, dec_embeddings, start_of_sequence_id, end_of_sequence_id, max_target_sequence_length, vocab_size, output_layer, batch_size, keep_prob)` function to get the inference logits.\n",
    "\n",
    "Note: You'll need to use [tf.variable_scope](https://www.tensorflow.org/api_docs/python/tf/variable_scope) to share variables between training and inference."
   ]
  },
  {
   "cell_type": "code",
   "execution_count": 12,
   "metadata": {
    "collapsed": false,
    "deletable": true,
    "editable": true
   },
   "outputs": [
    {
     "name": "stdout",
     "output_type": "stream",
     "text": [
      "Tests Passed\n"
     ]
    }
   ],
   "source": [
    "def decoding_layer(dec_input, encoder_state,\n",
    "                   target_sequence_length, max_target_sequence_length,\n",
    "                   rnn_size,\n",
    "                   num_layers, target_vocab_to_int, target_vocab_size,\n",
    "                   batch_size, keep_prob, decoding_embedding_size):\n",
    "    \"\"\"\n",
    "    Create decoding layer\n",
    "    :param dec_input: Decoder input\n",
    "    :param encoder_state: Encoder state\n",
    "    :param target_sequence_length: The lengths of each sequence in the target batch\n",
    "    :param max_target_sequence_length: Maximum length of target sequences\n",
    "    :param rnn_size: RNN Size\n",
    "    :param num_layers: Number of layers\n",
    "    :param target_vocab_to_int: Dictionary to go from the target words to an id\n",
    "    :param target_vocab_size: Size of target vocabulary\n",
    "    :param batch_size: The size of the batch\n",
    "    :param keep_prob: Dropout keep probability\n",
    "    :param decoding_embedding_size: Decoding embedding size\n",
    "    :return: Tuple of (Training BasicDecoderOutput, Inference BasicDecoderOutput)\n",
    "    \"\"\"\n",
    "    from tensorflow.python.layers.core import Dense\n",
    "\n",
    "    dec_embeddings = tf.Variable(tf.random_uniform(shape=(target_vocab_size, decoding_embedding_size)))\n",
    "    dec_embed_input = tf.nn.embedding_lookup(dec_embeddings, ids=dec_input)\n",
    "\n",
    "    def rnn_cell(size):\n",
    "        return tf.contrib.rnn.DropoutWrapper(\n",
    "            tf.contrib.rnn.LSTMCell(size, initializer=tf.random_uniform_initializer(-0.1, 0.1, seed=2)),\n",
    "            input_keep_prob=keep_prob\n",
    "        )\n",
    "\n",
    "    dec_cell = tf.contrib.rnn.MultiRNNCell([rnn_cell(rnn_size) for _ in range(num_layers)])\n",
    "\n",
    "    # 3. Dense layer to translate the decoder's output at each time\n",
    "    # step into a choice from the target vocabulary\n",
    "    output_layer = Dense(target_vocab_size,\n",
    "                         kernel_initializer=tf.truncated_normal_initializer(mean=0.0, stddev=0.1))\n",
    "\n",
    "    with tf.variable_scope('decode'):\n",
    "        training_output = decoding_layer_train(encoder_state=encoder_state,\n",
    "                                               dec_cell=dec_cell,\n",
    "                                               dec_embed_input=dec_embed_input,\n",
    "                                               target_sequence_length=target_sequence_length,\n",
    "                                               max_summary_length=max_target_sequence_length,\n",
    "                                               output_layer=output_layer,\n",
    "                                               keep_prob=keep_prob)\n",
    "\n",
    "    with tf.variable_scope('decode', reuse=True):\n",
    "        inference_output = decoding_layer_infer(encoder_state=encoder_state,\n",
    "                                                dec_cell=dec_cell,\n",
    "                                                dec_embeddings=dec_embeddings,\n",
    "                                                start_of_sequence_id=target_vocab_to_int['<GO>'],\n",
    "                                                end_of_sequence_id=target_vocab_to_int['<EOS>'],\n",
    "                                                max_target_sequence_length=max_target_sequence_length,\n",
    "                                                vocab_size=target_vocab_size,\n",
    "                                                output_layer=output_layer,\n",
    "                                                batch_size=batch_size,\n",
    "                                                keep_prob=keep_prob)\n",
    "\n",
    "    return training_output, inference_output\n",
    "\n",
    "\n",
    "\"\"\"\n",
    "DON'T MODIFY ANYTHING IN THIS CELL THAT IS BELOW THIS LINE\n",
    "\"\"\"\n",
    "tests.test_decoding_layer(decoding_layer)"
   ]
  },
  {
   "cell_type": "markdown",
   "metadata": {
    "deletable": true,
    "editable": true
   },
   "source": [
    "### Build the Neural Network\n",
    "Apply the functions you implemented above to:\n",
    "\n",
    "- Encode the input using your `encoding_layer(rnn_inputs, rnn_size, num_layers, keep_prob,  source_sequence_length, source_vocab_size, encoding_embedding_size)`.\n",
    "- Process target data using your `process_decoder_input(target_data, target_vocab_to_int, batch_size)` function.\n",
    "- Decode the encoded input using your `decoding_layer(dec_input, enc_state, target_sequence_length, max_target_sentence_length, rnn_size, num_layers, target_vocab_to_int, target_vocab_size, batch_size, keep_prob, dec_embedding_size)` function."
   ]
  },
  {
   "cell_type": "code",
   "execution_count": 13,
   "metadata": {
    "collapsed": false,
    "deletable": true,
    "editable": true
   },
   "outputs": [
    {
     "name": "stdout",
     "output_type": "stream",
     "text": [
      "Tests Passed\n",
      "Tests Passed\n",
      "Tests Passed\n",
      "Tests Passed\n",
      "Tests Passed\n",
      "Tests Passed\n",
      "Tests Passed\n",
      "Tests Passed\n",
      "Tests Passed\n"
     ]
    }
   ],
   "source": [
    "def seq2seq_model(input_data, target_data, keep_prob, batch_size,\n",
    "                  source_sequence_length, target_sequence_length,\n",
    "                  max_target_sentence_length,\n",
    "                  source_vocab_size, target_vocab_size,\n",
    "                  enc_embedding_size, dec_embedding_size,\n",
    "                  rnn_size, num_layers, target_vocab_to_int):\n",
    "    \"\"\"\n",
    "    Build the Sequence-to-Sequence part of the neural network\n",
    "    :param input_data: Input placeholder\n",
    "    :param target_data: Target placeholder\n",
    "    :param keep_prob: Dropout keep probability placeholder\n",
    "    :param batch_size: Batch Size\n",
    "    :param source_sequence_length: Sequence Lengths of source sequences in the batch\n",
    "    :param target_sequence_length: Sequence Lengths of target sequences in the batch\n",
    "    :param max_target_sentence_length:\n",
    "    :param source_vocab_size: Source vocabulary size\n",
    "    :param target_vocab_size: Target vocabulary size\n",
    "    :param enc_embedding_size: Decoder embedding size\n",
    "    :param dec_embedding_size: Encoder embedding size\n",
    "    :param rnn_size: RNN Size\n",
    "    :param num_layers: Number of layers\n",
    "    :param target_vocab_to_int: Dictionary to go from the target words to an id\n",
    "    :return: Tuple of (Training BasicDecoderOutput, Inference BasicDecoderOutput)\n",
    "    \"\"\"\n",
    "    _, encoder_state = encoding_layer(input_data,\n",
    "                                      rnn_size=rnn_size,\n",
    "                                      num_layers=num_layers,\n",
    "                                      source_sequence_length=source_sequence_length,\n",
    "                                      source_vocab_size=source_vocab_size,\n",
    "                                      encoding_embedding_size=enc_embedding_size,\n",
    "                                      keep_prob=keep_prob)\n",
    "\n",
    "    # Prepare the target sequences we'll feed to the decoder in training mode\n",
    "    dec_input = process_decoder_input(target_data,\n",
    "                                      target_vocab_to_int=target_vocab_to_int,\n",
    "                                      batch_size=batch_size)\n",
    "\n",
    "    # Pass encoder state and decoder inputs to the decoders\n",
    "\n",
    "    return decoding_layer(dec_input,\n",
    "                          encoder_state=encoder_state,\n",
    "                          target_sequence_length=target_sequence_length,\n",
    "                          max_target_sequence_length=max_target_sentence_length,\n",
    "                          rnn_size=rnn_size,\n",
    "                          num_layers=num_layers,\n",
    "                          target_vocab_to_int=target_vocab_to_int,\n",
    "                          target_vocab_size=target_vocab_size,\n",
    "                          batch_size=batch_size,\n",
    "                          keep_prob=keep_prob,\n",
    "                          decoding_embedding_size=dec_embedding_size)\n",
    "\n",
    "\n",
    "def main():\n",
    "    import problem_unittests as tests\n",
    "\n",
    "    tests.test_text_to_ids(text_to_ids)\n",
    "    tests.test_model_inputs(model_inputs)\n",
    "    tests.test_process_encoding_input(process_decoder_input)\n",
    "    tests.test_encoding_layer(encoding_layer)\n",
    "    tests.test_decoding_layer_train(decoding_layer_train)\n",
    "    tests.test_decoding_layer_infer(decoding_layer_infer)\n",
    "    tests.test_decoding_layer(decoding_layer)\n",
    "    tests.test_seq2seq_model(seq2seq_model)\n",
    "\n",
    "\n",
    "if __name__ == '__main__':\n",
    "    main()\n",
    "\n",
    "\n",
    "\"\"\"\n",
    "DON'T MODIFY ANYTHING IN THIS CELL THAT IS BELOW THIS LINE\n",
    "\"\"\"\n",
    "tests.test_seq2seq_model(seq2seq_model)"
   ]
  },
  {
   "cell_type": "markdown",
   "metadata": {
    "deletable": true,
    "editable": true
   },
   "source": [
    "## Neural Network Training\n",
    "### Hyperparameters\n",
    "Tune the following parameters:\n",
    "\n",
    "- Set `epochs` to the number of epochs.\n",
    "- Set `batch_size` to the batch size.\n",
    "- Set `rnn_size` to the size of the RNNs.\n",
    "- Set `num_layers` to the number of layers.\n",
    "- Set `encoding_embedding_size` to the size of the embedding for the encoder.\n",
    "- Set `decoding_embedding_size` to the size of the embedding for the decoder.\n",
    "- Set `learning_rate` to the learning rate.\n",
    "- Set `keep_probability` to the Dropout keep probability\n",
    "- Set `display_step` to state how many steps between each debug output statement"
   ]
  },
  {
   "cell_type": "code",
   "execution_count": 14,
   "metadata": {
    "collapsed": true,
    "deletable": true,
    "editable": true
   },
   "outputs": [],
   "source": [
    "# Number of Epochs\n",
    "epochs = 5\n",
    "# Batch Size\n",
    "batch_size = 256\n",
    "# RNN Size\n",
    "rnn_size = 256\n",
    "# Number of Layers\n",
    "num_layers = 2\n",
    "# Embedding Size\n",
    "encoding_embedding_size = 128\n",
    "decoding_embedding_size = 128\n",
    "# Learning Rate\n",
    "learning_rate = 0.001\n",
    "# Dropout Keep Probability\n",
    "keep_probability = 0.75\n",
    "display_step=10"
   ]
  },
  {
   "cell_type": "markdown",
   "metadata": {
    "deletable": true,
    "editable": true
   },
   "source": [
    "### Build the Graph\n",
    "Build the graph using the neural network you implemented."
   ]
  },
  {
   "cell_type": "code",
   "execution_count": 15,
   "metadata": {
    "collapsed": true,
    "deletable": true,
    "editable": true
   },
   "outputs": [],
   "source": [
    "\"\"\"\n",
    "DON'T MODIFY ANYTHING IN THIS CELL\n",
    "\"\"\"\n",
    "save_path = 'checkpoints/dev'\n",
    "(source_int_text, target_int_text), (source_vocab_to_int, target_vocab_to_int), _ = helper.load_preprocess()\n",
    "max_target_sentence_length = max([len(sentence) for sentence in source_int_text])\n",
    "\n",
    "train_graph = tf.Graph()\n",
    "with train_graph.as_default():\n",
    "    input_data, targets, lr, keep_prob, target_sequence_length, max_target_sequence_length, source_sequence_length = model_inputs()\n",
    "\n",
    "    #sequence_length = tf.placeholder_with_default(max_target_sentence_length, None, name='sequence_length')\n",
    "    input_shape = tf.shape(input_data)\n",
    "\n",
    "    train_logits, inference_logits = seq2seq_model(tf.reverse(input_data, [-1]),\n",
    "                                                   targets,\n",
    "                                                   keep_prob,\n",
    "                                                   batch_size,\n",
    "                                                   source_sequence_length,\n",
    "                                                   target_sequence_length,\n",
    "                                                   max_target_sequence_length,\n",
    "                                                   len(source_vocab_to_int),\n",
    "                                                   len(target_vocab_to_int),\n",
    "                                                   encoding_embedding_size,\n",
    "                                                   decoding_embedding_size,\n",
    "                                                   rnn_size,\n",
    "                                                   num_layers,\n",
    "                                                   target_vocab_to_int)\n",
    "\n",
    "\n",
    "    training_logits = tf.identity(train_logits.rnn_output, name='logits')\n",
    "    inference_logits = tf.identity(inference_logits.sample_id, name='predictions')\n",
    "\n",
    "    masks = tf.sequence_mask(target_sequence_length, max_target_sequence_length, dtype=tf.float32, name='masks')\n",
    "\n",
    "    with tf.name_scope(\"optimization\"):\n",
    "        # Loss function\n",
    "        cost = tf.contrib.seq2seq.sequence_loss(\n",
    "            training_logits,\n",
    "            targets,\n",
    "            masks)\n",
    "\n",
    "        # Optimizer\n",
    "        optimizer = tf.train.AdamOptimizer(lr)\n",
    "\n",
    "        # Gradient Clipping\n",
    "        gradients = optimizer.compute_gradients(cost)\n",
    "        capped_gradients = [(tf.clip_by_value(grad, -1., 1.), var) for grad, var in gradients if grad is not None]\n",
    "        train_op = optimizer.apply_gradients(capped_gradients)\n"
   ]
  },
  {
   "cell_type": "markdown",
   "metadata": {
    "deletable": true,
    "editable": true
   },
   "source": [
    "Batch and pad the source and target sequences"
   ]
  },
  {
   "cell_type": "code",
   "execution_count": 16,
   "metadata": {
    "collapsed": true,
    "deletable": true,
    "editable": true
   },
   "outputs": [],
   "source": [
    "\"\"\"\n",
    "DON'T MODIFY ANYTHING IN THIS CELL\n",
    "\"\"\"\n",
    "def pad_sentence_batch(sentence_batch, pad_int):\n",
    "    \"\"\"Pad sentences with <PAD> so that each sentence of a batch has the same length\"\"\"\n",
    "    max_sentence = max([len(sentence) for sentence in sentence_batch])\n",
    "    return [sentence + [pad_int] * (max_sentence - len(sentence)) for sentence in sentence_batch]\n",
    "\n",
    "\n",
    "def get_batches(sources, targets, batch_size, source_pad_int, target_pad_int):\n",
    "    \"\"\"Batch targets, sources, and the lengths of their sentences together\"\"\"\n",
    "    for batch_i in range(0, len(sources)//batch_size):\n",
    "        start_i = batch_i * batch_size\n",
    "\n",
    "        # Slice the right amount for the batch\n",
    "        sources_batch = sources[start_i:start_i + batch_size]\n",
    "        targets_batch = targets[start_i:start_i + batch_size]\n",
    "\n",
    "        # Pad\n",
    "        pad_sources_batch = np.array(pad_sentence_batch(sources_batch, source_pad_int))\n",
    "        pad_targets_batch = np.array(pad_sentence_batch(targets_batch, target_pad_int))\n",
    "\n",
    "        # Need the lengths for the _lengths parameters\n",
    "        pad_targets_lengths = []\n",
    "        for target in pad_targets_batch:\n",
    "            pad_targets_lengths.append(len(target))\n",
    "\n",
    "        pad_source_lengths = []\n",
    "        for source in pad_sources_batch:\n",
    "            pad_source_lengths.append(len(source))\n",
    "\n",
    "        yield pad_sources_batch, pad_targets_batch, pad_source_lengths, pad_targets_lengths\n"
   ]
  },
  {
   "cell_type": "markdown",
   "metadata": {
    "deletable": true,
    "editable": true
   },
   "source": [
    "### Train\n",
    "Train the neural network on the preprocessed data. If you have a hard time getting a good loss, check the forms to see if anyone is having the same problem."
   ]
  },
  {
   "cell_type": "code",
   "execution_count": 17,
   "metadata": {
    "collapsed": false,
    "deletable": true,
    "editable": true,
    "scrolled": true
   },
   "outputs": [
    {
     "name": "stdout",
     "output_type": "stream",
     "text": [
      "Epoch   0 Batch   10/538 - Train Accuracy: 0.2902, Validation Accuracy: 0.3706, Loss: 3.5822\n",
      "Epoch   0 Batch   20/538 - Train Accuracy: 0.3817, Validation Accuracy: 0.4279, Loss: 2.8310\n",
      "Epoch   0 Batch   30/538 - Train Accuracy: 0.4059, Validation Accuracy: 0.4615, Loss: 2.6791\n",
      "Epoch   0 Batch   40/538 - Train Accuracy: 0.4824, Validation Accuracy: 0.4831, Loss: 2.2312\n",
      "Epoch   0 Batch   50/538 - Train Accuracy: 0.4689, Validation Accuracy: 0.5085, Loss: 2.2074\n",
      "Epoch   0 Batch   60/538 - Train Accuracy: 0.4787, Validation Accuracy: 0.5256, Loss: 2.0745\n",
      "Epoch   0 Batch   70/538 - Train Accuracy: 0.4901, Validation Accuracy: 0.5243, Loss: 1.8777\n",
      "Epoch   0 Batch   80/538 - Train Accuracy: 0.4605, Validation Accuracy: 0.5217, Loss: 1.8698\n",
      "Epoch   0 Batch   90/538 - Train Accuracy: 0.4682, Validation Accuracy: 0.4988, Loss: 1.6863\n",
      "Epoch   0 Batch  100/538 - Train Accuracy: 0.4656, Validation Accuracy: 0.5117, Loss: 1.5768\n",
      "Epoch   0 Batch  110/538 - Train Accuracy: 0.4652, Validation Accuracy: 0.5128, Loss: 1.5682\n",
      "Epoch   0 Batch  120/538 - Train Accuracy: 0.4752, Validation Accuracy: 0.5142, Loss: 1.4607\n",
      "Epoch   0 Batch  130/538 - Train Accuracy: 0.5004, Validation Accuracy: 0.5140, Loss: 1.3595\n",
      "Epoch   0 Batch  140/538 - Train Accuracy: 0.4482, Validation Accuracy: 0.5107, Loss: 1.4307\n",
      "Epoch   0 Batch  150/538 - Train Accuracy: 0.4848, Validation Accuracy: 0.5153, Loss: 1.3045\n",
      "Epoch   0 Batch  160/538 - Train Accuracy: 0.4760, Validation Accuracy: 0.5041, Loss: 1.2124\n",
      "Epoch   0 Batch  170/538 - Train Accuracy: 0.5162, Validation Accuracy: 0.5218, Loss: 1.1729\n",
      "Epoch   0 Batch  180/538 - Train Accuracy: 0.5082, Validation Accuracy: 0.5105, Loss: 1.1361\n",
      "Epoch   0 Batch  190/538 - Train Accuracy: 0.5117, Validation Accuracy: 0.5291, Loss: 1.1353\n",
      "Epoch   0 Batch  200/538 - Train Accuracy: 0.5131, Validation Accuracy: 0.5392, Loss: 1.0756\n",
      "Epoch   0 Batch  210/538 - Train Accuracy: 0.5071, Validation Accuracy: 0.5339, Loss: 1.0199\n",
      "Epoch   0 Batch  220/538 - Train Accuracy: 0.5188, Validation Accuracy: 0.5540, Loss: 0.9775\n",
      "Epoch   0 Batch  230/538 - Train Accuracy: 0.5189, Validation Accuracy: 0.5401, Loss: 0.9738\n",
      "Epoch   0 Batch  240/538 - Train Accuracy: 0.5273, Validation Accuracy: 0.5602, Loss: 0.9546\n",
      "Epoch   0 Batch  250/538 - Train Accuracy: 0.5252, Validation Accuracy: 0.5586, Loss: 0.8819\n",
      "Epoch   0 Batch  260/538 - Train Accuracy: 0.5532, Validation Accuracy: 0.5648, Loss: 0.8632\n",
      "Epoch   0 Batch  270/538 - Train Accuracy: 0.5164, Validation Accuracy: 0.5692, Loss: 0.8485\n",
      "Epoch   0 Batch  280/538 - Train Accuracy: 0.5804, Validation Accuracy: 0.5675, Loss: 0.7917\n",
      "Epoch   0 Batch  290/538 - Train Accuracy: 0.5428, Validation Accuracy: 0.5776, Loss: 0.8051\n",
      "Epoch   0 Batch  300/538 - Train Accuracy: 0.5826, Validation Accuracy: 0.5842, Loss: 0.7545\n",
      "Epoch   0 Batch  310/538 - Train Accuracy: 0.5639, Validation Accuracy: 0.5925, Loss: 0.7499\n",
      "Epoch   0 Batch  320/538 - Train Accuracy: 0.6049, Validation Accuracy: 0.5918, Loss: 0.7348\n",
      "Epoch   0 Batch  330/538 - Train Accuracy: 0.6038, Validation Accuracy: 0.6051, Loss: 0.7029\n",
      "Epoch   0 Batch  340/538 - Train Accuracy: 0.6027, Validation Accuracy: 0.6252, Loss: 0.7380\n",
      "Epoch   0 Batch  350/538 - Train Accuracy: 0.6066, Validation Accuracy: 0.6103, Loss: 0.7031\n",
      "Epoch   0 Batch  360/538 - Train Accuracy: 0.6174, Validation Accuracy: 0.6204, Loss: 0.7036\n",
      "Epoch   0 Batch  370/538 - Train Accuracy: 0.6074, Validation Accuracy: 0.6225, Loss: 0.7077\n",
      "Epoch   0 Batch  380/538 - Train Accuracy: 0.6018, Validation Accuracy: 0.6167, Loss: 0.6586\n",
      "Epoch   0 Batch  390/538 - Train Accuracy: 0.6397, Validation Accuracy: 0.6229, Loss: 0.6335\n",
      "Epoch   0 Batch  400/538 - Train Accuracy: 0.6008, Validation Accuracy: 0.6239, Loss: 0.6278\n",
      "Epoch   0 Batch  410/538 - Train Accuracy: 0.6266, Validation Accuracy: 0.6248, Loss: 0.6393\n",
      "Epoch   0 Batch  420/538 - Train Accuracy: 0.6293, Validation Accuracy: 0.6339, Loss: 0.6150\n",
      "Epoch   0 Batch  430/538 - Train Accuracy: 0.6293, Validation Accuracy: 0.6314, Loss: 0.6099\n",
      "Epoch   0 Batch  440/538 - Train Accuracy: 0.6146, Validation Accuracy: 0.6387, Loss: 0.6288\n",
      "Epoch   0 Batch  450/538 - Train Accuracy: 0.6479, Validation Accuracy: 0.6412, Loss: 0.6045\n",
      "Epoch   0 Batch  460/538 - Train Accuracy: 0.6057, Validation Accuracy: 0.6454, Loss: 0.5682\n",
      "Epoch   0 Batch  470/538 - Train Accuracy: 0.6416, Validation Accuracy: 0.6447, Loss: 0.5633\n",
      "Epoch   0 Batch  480/538 - Train Accuracy: 0.6376, Validation Accuracy: 0.6369, Loss: 0.5561\n",
      "Epoch   0 Batch  490/538 - Train Accuracy: 0.6386, Validation Accuracy: 0.6465, Loss: 0.5628\n",
      "Epoch   0 Batch  500/538 - Train Accuracy: 0.6468, Validation Accuracy: 0.6404, Loss: 0.5174\n",
      "Epoch   0 Batch  510/538 - Train Accuracy: 0.6496, Validation Accuracy: 0.6445, Loss: 0.5381\n",
      "Epoch   0 Batch  520/538 - Train Accuracy: 0.6289, Validation Accuracy: 0.6532, Loss: 0.5647\n",
      "Epoch   0 Batch  530/538 - Train Accuracy: 0.6408, Validation Accuracy: 0.6564, Loss: 0.5660\n",
      "Epoch   1 Batch   10/538 - Train Accuracy: 0.6043, Validation Accuracy: 0.6520, Loss: 0.5612\n",
      "Epoch   1 Batch   20/538 - Train Accuracy: 0.6365, Validation Accuracy: 0.6602, Loss: 0.5289\n",
      "Epoch   1 Batch   30/538 - Train Accuracy: 0.6484, Validation Accuracy: 0.6623, Loss: 0.5430\n",
      "Epoch   1 Batch   40/538 - Train Accuracy: 0.6911, Validation Accuracy: 0.6699, Loss: 0.4623\n",
      "Epoch   1 Batch   50/538 - Train Accuracy: 0.6482, Validation Accuracy: 0.6731, Loss: 0.5219\n",
      "Epoch   1 Batch   60/538 - Train Accuracy: 0.6539, Validation Accuracy: 0.6671, Loss: 0.5045\n",
      "Epoch   1 Batch   70/538 - Train Accuracy: 0.6555, Validation Accuracy: 0.6683, Loss: 0.4821\n",
      "Epoch   1 Batch   80/538 - Train Accuracy: 0.6473, Validation Accuracy: 0.6752, Loss: 0.5086\n",
      "Epoch   1 Batch   90/538 - Train Accuracy: 0.6695, Validation Accuracy: 0.6770, Loss: 0.4900\n",
      "Epoch   1 Batch  100/538 - Train Accuracy: 0.6650, Validation Accuracy: 0.6765, Loss: 0.4684\n",
      "Epoch   1 Batch  110/538 - Train Accuracy: 0.6676, Validation Accuracy: 0.6774, Loss: 0.4710\n",
      "Epoch   1 Batch  120/538 - Train Accuracy: 0.6893, Validation Accuracy: 0.6799, Loss: 0.4482\n",
      "Epoch   1 Batch  130/538 - Train Accuracy: 0.6834, Validation Accuracy: 0.6822, Loss: 0.4401\n",
      "Epoch   1 Batch  140/538 - Train Accuracy: 0.6473, Validation Accuracy: 0.6795, Loss: 0.4774\n",
      "Epoch   1 Batch  150/538 - Train Accuracy: 0.6863, Validation Accuracy: 0.6800, Loss: 0.4417\n",
      "Epoch   1 Batch  160/538 - Train Accuracy: 0.6592, Validation Accuracy: 0.6976, Loss: 0.4252\n",
      "Epoch   1 Batch  170/538 - Train Accuracy: 0.6858, Validation Accuracy: 0.6763, Loss: 0.4315\n",
      "Epoch   1 Batch  180/538 - Train Accuracy: 0.7208, Validation Accuracy: 0.6939, Loss: 0.4136\n",
      "Epoch   1 Batch  190/538 - Train Accuracy: 0.7078, Validation Accuracy: 0.7035, Loss: 0.4263\n",
      "Epoch   1 Batch  200/538 - Train Accuracy: 0.7326, Validation Accuracy: 0.6987, Loss: 0.4015\n",
      "Epoch   1 Batch  210/538 - Train Accuracy: 0.6957, Validation Accuracy: 0.7017, Loss: 0.4025\n",
      "Epoch   1 Batch  220/538 - Train Accuracy: 0.6832, Validation Accuracy: 0.7038, Loss: 0.3890\n",
      "Epoch   1 Batch  230/538 - Train Accuracy: 0.7246, Validation Accuracy: 0.7116, Loss: 0.3956\n",
      "Epoch   1 Batch  240/538 - Train Accuracy: 0.7088, Validation Accuracy: 0.7132, Loss: 0.3795\n",
      "Epoch   1 Batch  250/538 - Train Accuracy: 0.7289, Validation Accuracy: 0.7207, Loss: 0.3769\n",
      "Epoch   1 Batch  260/538 - Train Accuracy: 0.7147, Validation Accuracy: 0.7237, Loss: 0.3638\n",
      "Epoch   1 Batch  270/538 - Train Accuracy: 0.7260, Validation Accuracy: 0.7085, Loss: 0.3709\n",
      "Epoch   1 Batch  280/538 - Train Accuracy: 0.7589, Validation Accuracy: 0.7223, Loss: 0.3360\n",
      "Epoch   1 Batch  290/538 - Train Accuracy: 0.7350, Validation Accuracy: 0.7287, Loss: 0.3363\n",
      "Epoch   1 Batch  300/538 - Train Accuracy: 0.7338, Validation Accuracy: 0.7402, Loss: 0.3326\n",
      "Epoch   1 Batch  310/538 - Train Accuracy: 0.7922, Validation Accuracy: 0.7514, Loss: 0.3374\n",
      "Epoch   1 Batch  320/538 - Train Accuracy: 0.7759, Validation Accuracy: 0.7752, Loss: 0.3212\n",
      "Epoch   1 Batch  330/538 - Train Accuracy: 0.7861, Validation Accuracy: 0.7507, Loss: 0.3019\n",
      "Epoch   1 Batch  340/538 - Train Accuracy: 0.7721, Validation Accuracy: 0.7559, Loss: 0.3271\n",
      "Epoch   1 Batch  350/538 - Train Accuracy: 0.7846, Validation Accuracy: 0.7623, Loss: 0.3082\n",
      "Epoch   1 Batch  360/538 - Train Accuracy: 0.7881, Validation Accuracy: 0.7846, Loss: 0.3027\n",
      "Epoch   1 Batch  370/538 - Train Accuracy: 0.8080, Validation Accuracy: 0.7885, Loss: 0.3001\n",
      "Epoch   1 Batch  380/538 - Train Accuracy: 0.7807, Validation Accuracy: 0.8015, Loss: 0.2786\n",
      "Epoch   1 Batch  390/538 - Train Accuracy: 0.8354, Validation Accuracy: 0.7894, Loss: 0.2675\n",
      "Epoch   1 Batch  400/538 - Train Accuracy: 0.8052, Validation Accuracy: 0.7880, Loss: 0.2692\n",
      "Epoch   1 Batch  410/538 - Train Accuracy: 0.8305, Validation Accuracy: 0.8322, Loss: 0.2732\n",
      "Epoch   1 Batch  420/538 - Train Accuracy: 0.8461, Validation Accuracy: 0.8336, Loss: 0.2544\n",
      "Epoch   1 Batch  430/538 - Train Accuracy: 0.8201, Validation Accuracy: 0.8281, Loss: 0.2559\n",
      "Epoch   1 Batch  440/538 - Train Accuracy: 0.8346, Validation Accuracy: 0.8299, Loss: 0.2634\n",
      "Epoch   1 Batch  450/538 - Train Accuracy: 0.8142, Validation Accuracy: 0.8288, Loss: 0.2618\n",
      "Epoch   1 Batch  460/538 - Train Accuracy: 0.8428, Validation Accuracy: 0.8477, Loss: 0.2309\n",
      "Epoch   1 Batch  470/538 - Train Accuracy: 0.8521, Validation Accuracy: 0.8288, Loss: 0.2246\n",
      "Epoch   1 Batch  480/538 - Train Accuracy: 0.8609, Validation Accuracy: 0.8592, Loss: 0.2234\n",
      "Epoch   1 Batch  490/538 - Train Accuracy: 0.8532, Validation Accuracy: 0.8588, Loss: 0.2219\n",
      "Epoch   1 Batch  500/538 - Train Accuracy: 0.8784, Validation Accuracy: 0.8562, Loss: 0.1976\n",
      "Epoch   1 Batch  510/538 - Train Accuracy: 0.8668, Validation Accuracy: 0.8532, Loss: 0.2078\n",
      "Epoch   1 Batch  520/538 - Train Accuracy: 0.8617, Validation Accuracy: 0.8688, Loss: 0.2154\n",
      "Epoch   1 Batch  530/538 - Train Accuracy: 0.8523, Validation Accuracy: 0.8695, Loss: 0.2149\n",
      "Epoch   2 Batch   10/538 - Train Accuracy: 0.8480, Validation Accuracy: 0.8635, Loss: 0.2087\n",
      "Epoch   2 Batch   20/538 - Train Accuracy: 0.8795, Validation Accuracy: 0.8711, Loss: 0.1914\n",
      "Epoch   2 Batch   30/538 - Train Accuracy: 0.8705, Validation Accuracy: 0.8613, Loss: 0.1905\n",
      "Epoch   2 Batch   40/538 - Train Accuracy: 0.8819, Validation Accuracy: 0.8700, Loss: 0.1552\n",
      "Epoch   2 Batch   50/538 - Train Accuracy: 0.8781, Validation Accuracy: 0.8748, Loss: 0.1723\n",
      "Epoch   2 Batch   60/538 - Train Accuracy: 0.8932, Validation Accuracy: 0.8720, Loss: 0.1694\n",
      "Epoch   2 Batch   70/538 - Train Accuracy: 0.8720, Validation Accuracy: 0.8613, Loss: 0.1617\n",
      "Epoch   2 Batch   80/538 - Train Accuracy: 0.8783, Validation Accuracy: 0.8725, Loss: 0.1707\n",
      "Epoch   2 Batch   90/538 - Train Accuracy: 0.8955, Validation Accuracy: 0.8699, Loss: 0.1651\n",
      "Epoch   2 Batch  100/538 - Train Accuracy: 0.8920, Validation Accuracy: 0.8732, Loss: 0.1475\n",
      "Epoch   2 Batch  110/538 - Train Accuracy: 0.8863, Validation Accuracy: 0.8627, Loss: 0.1460\n",
      "Epoch   2 Batch  120/538 - Train Accuracy: 0.9168, Validation Accuracy: 0.8794, Loss: 0.1313\n",
      "Epoch   2 Batch  130/538 - Train Accuracy: 0.9070, Validation Accuracy: 0.8844, Loss: 0.1291\n",
      "Epoch   2 Batch  140/538 - Train Accuracy: 0.8713, Validation Accuracy: 0.8922, Loss: 0.1639\n",
      "Epoch   2 Batch  150/538 - Train Accuracy: 0.9104, Validation Accuracy: 0.8917, Loss: 0.1253\n",
      "Epoch   2 Batch  160/538 - Train Accuracy: 0.8953, Validation Accuracy: 0.8896, Loss: 0.1281\n",
      "Epoch   2 Batch  170/538 - Train Accuracy: 0.8828, Validation Accuracy: 0.8906, Loss: 0.1286\n",
      "Epoch   2 Batch  180/538 - Train Accuracy: 0.9079, Validation Accuracy: 0.8926, Loss: 0.1278\n",
      "Epoch   2 Batch  190/538 - Train Accuracy: 0.8875, Validation Accuracy: 0.8782, Loss: 0.1447\n",
      "Epoch   2 Batch  200/538 - Train Accuracy: 0.9092, Validation Accuracy: 0.8869, Loss: 0.1134\n",
      "Epoch   2 Batch  210/538 - Train Accuracy: 0.8876, Validation Accuracy: 0.9015, Loss: 0.1207\n",
      "Epoch   2 Batch  220/538 - Train Accuracy: 0.8854, Validation Accuracy: 0.8906, Loss: 0.1135\n",
      "Epoch   2 Batch  230/538 - Train Accuracy: 0.8996, Validation Accuracy: 0.8888, Loss: 0.1155\n",
      "Epoch   2 Batch  240/538 - Train Accuracy: 0.9059, Validation Accuracy: 0.9064, Loss: 0.1135\n",
      "Epoch   2 Batch  250/538 - Train Accuracy: 0.9131, Validation Accuracy: 0.8999, Loss: 0.1034\n",
      "Epoch   2 Batch  260/538 - Train Accuracy: 0.8724, Validation Accuracy: 0.8995, Loss: 0.1137\n",
      "Epoch   2 Batch  270/538 - Train Accuracy: 0.9141, Validation Accuracy: 0.9038, Loss: 0.1015\n",
      "Epoch   2 Batch  280/538 - Train Accuracy: 0.9228, Validation Accuracy: 0.9023, Loss: 0.0937\n",
      "Epoch   2 Batch  290/538 - Train Accuracy: 0.9307, Validation Accuracy: 0.9116, Loss: 0.0944\n",
      "Epoch   2 Batch  300/538 - Train Accuracy: 0.9103, Validation Accuracy: 0.9102, Loss: 0.0957\n",
      "Epoch   2 Batch  310/538 - Train Accuracy: 0.9207, Validation Accuracy: 0.9151, Loss: 0.0924\n",
      "Epoch   2 Batch  320/538 - Train Accuracy: 0.9109, Validation Accuracy: 0.9109, Loss: 0.0853\n",
      "Epoch   2 Batch  330/538 - Train Accuracy: 0.9222, Validation Accuracy: 0.9052, Loss: 0.0863\n",
      "Epoch   2 Batch  340/538 - Train Accuracy: 0.9096, Validation Accuracy: 0.9150, Loss: 0.0916\n",
      "Epoch   2 Batch  350/538 - Train Accuracy: 0.9224, Validation Accuracy: 0.9144, Loss: 0.0945\n",
      "Epoch   2 Batch  360/538 - Train Accuracy: 0.9123, Validation Accuracy: 0.9077, Loss: 0.0828\n",
      "Epoch   2 Batch  370/538 - Train Accuracy: 0.9281, Validation Accuracy: 0.9086, Loss: 0.0817\n",
      "Epoch   2 Batch  380/538 - Train Accuracy: 0.9127, Validation Accuracy: 0.9208, Loss: 0.0762\n",
      "Epoch   2 Batch  390/538 - Train Accuracy: 0.9258, Validation Accuracy: 0.9240, Loss: 0.0728\n",
      "Epoch   2 Batch  400/538 - Train Accuracy: 0.9280, Validation Accuracy: 0.9134, Loss: 0.0784\n",
      "Epoch   2 Batch  410/538 - Train Accuracy: 0.9291, Validation Accuracy: 0.9126, Loss: 0.0883\n",
      "Epoch   2 Batch  420/538 - Train Accuracy: 0.9398, Validation Accuracy: 0.9199, Loss: 0.0735\n",
      "Epoch   2 Batch  430/538 - Train Accuracy: 0.9264, Validation Accuracy: 0.9141, Loss: 0.0751\n",
      "Epoch   2 Batch  440/538 - Train Accuracy: 0.9049, Validation Accuracy: 0.9146, Loss: 0.0846\n",
      "Epoch   2 Batch  450/538 - Train Accuracy: 0.9202, Validation Accuracy: 0.9210, Loss: 0.0889\n",
      "Epoch   2 Batch  460/538 - Train Accuracy: 0.9142, Validation Accuracy: 0.9247, Loss: 0.0802\n",
      "Epoch   2 Batch  470/538 - Train Accuracy: 0.9299, Validation Accuracy: 0.9119, Loss: 0.0701\n",
      "Epoch   2 Batch  480/538 - Train Accuracy: 0.9448, Validation Accuracy: 0.9100, Loss: 0.0662\n",
      "Epoch   2 Batch  490/538 - Train Accuracy: 0.9295, Validation Accuracy: 0.9357, Loss: 0.0701\n",
      "Epoch   2 Batch  500/538 - Train Accuracy: 0.9428, Validation Accuracy: 0.9197, Loss: 0.0569\n",
      "Epoch   2 Batch  510/538 - Train Accuracy: 0.9262, Validation Accuracy: 0.9292, Loss: 0.0653\n",
      "Epoch   2 Batch  520/538 - Train Accuracy: 0.9367, Validation Accuracy: 0.9190, Loss: 0.0662\n",
      "Epoch   2 Batch  530/538 - Train Accuracy: 0.9123, Validation Accuracy: 0.9311, Loss: 0.0721\n",
      "Epoch   3 Batch   10/538 - Train Accuracy: 0.9283, Validation Accuracy: 0.9238, Loss: 0.0724\n",
      "Epoch   3 Batch   20/538 - Train Accuracy: 0.9293, Validation Accuracy: 0.9254, Loss: 0.0644\n",
      "Epoch   3 Batch   30/538 - Train Accuracy: 0.9332, Validation Accuracy: 0.9194, Loss: 0.0713\n",
      "Epoch   3 Batch   40/538 - Train Accuracy: 0.9341, Validation Accuracy: 0.9281, Loss: 0.0517\n",
      "Epoch   3 Batch   50/538 - Train Accuracy: 0.9223, Validation Accuracy: 0.9171, Loss: 0.0582\n",
      "Epoch   3 Batch   60/538 - Train Accuracy: 0.9338, Validation Accuracy: 0.9311, Loss: 0.0611\n",
      "Epoch   3 Batch   70/538 - Train Accuracy: 0.9276, Validation Accuracy: 0.9272, Loss: 0.0588\n",
      "Epoch   3 Batch   80/538 - Train Accuracy: 0.9375, Validation Accuracy: 0.9341, Loss: 0.0637\n",
      "Epoch   3 Batch   90/538 - Train Accuracy: 0.9392, Validation Accuracy: 0.9276, Loss: 0.0687\n",
      "Epoch   3 Batch  100/538 - Train Accuracy: 0.9332, Validation Accuracy: 0.9189, Loss: 0.0528\n",
      "Epoch   3 Batch  110/538 - Train Accuracy: 0.9430, Validation Accuracy: 0.9387, Loss: 0.0558\n",
      "Epoch   3 Batch  120/538 - Train Accuracy: 0.9598, Validation Accuracy: 0.9373, Loss: 0.0459\n",
      "Epoch   3 Batch  130/538 - Train Accuracy: 0.9501, Validation Accuracy: 0.9315, Loss: 0.0513\n",
      "Epoch   3 Batch  140/538 - Train Accuracy: 0.9205, Validation Accuracy: 0.9350, Loss: 0.0737\n",
      "Epoch   3 Batch  150/538 - Train Accuracy: 0.9439, Validation Accuracy: 0.9396, Loss: 0.0509\n",
      "Epoch   3 Batch  160/538 - Train Accuracy: 0.9226, Validation Accuracy: 0.9300, Loss: 0.0506\n",
      "Epoch   3 Batch  170/538 - Train Accuracy: 0.9239, Validation Accuracy: 0.9297, Loss: 0.0582\n",
      "Epoch   3 Batch  180/538 - Train Accuracy: 0.9429, Validation Accuracy: 0.9393, Loss: 0.0565\n",
      "Epoch   3 Batch  190/538 - Train Accuracy: 0.9288, Validation Accuracy: 0.9398, Loss: 0.0728\n",
      "Epoch   3 Batch  200/538 - Train Accuracy: 0.9449, Validation Accuracy: 0.9386, Loss: 0.0459\n",
      "Epoch   3 Batch  210/538 - Train Accuracy: 0.9345, Validation Accuracy: 0.9373, Loss: 0.0521\n",
      "Epoch   3 Batch  220/538 - Train Accuracy: 0.9302, Validation Accuracy: 0.9403, Loss: 0.0588\n",
      "Epoch   3 Batch  230/538 - Train Accuracy: 0.9217, Validation Accuracy: 0.9320, Loss: 0.0539\n",
      "Epoch   3 Batch  240/538 - Train Accuracy: 0.9350, Validation Accuracy: 0.9419, Loss: 0.0552\n",
      "Epoch   3 Batch  250/538 - Train Accuracy: 0.9477, Validation Accuracy: 0.9425, Loss: 0.0509\n",
      "Epoch   3 Batch  260/538 - Train Accuracy: 0.9120, Validation Accuracy: 0.9355, Loss: 0.0558\n",
      "Epoch   3 Batch  270/538 - Train Accuracy: 0.9488, Validation Accuracy: 0.9448, Loss: 0.0520\n",
      "Epoch   3 Batch  280/538 - Train Accuracy: 0.9492, Validation Accuracy: 0.9322, Loss: 0.0454\n",
      "Epoch   3 Batch  290/538 - Train Accuracy: 0.9662, Validation Accuracy: 0.9281, Loss: 0.0437\n",
      "Epoch   3 Batch  300/538 - Train Accuracy: 0.9412, Validation Accuracy: 0.9457, Loss: 0.0496\n",
      "Epoch   3 Batch  310/538 - Train Accuracy: 0.9529, Validation Accuracy: 0.9432, Loss: 0.0490\n",
      "Epoch   3 Batch  320/538 - Train Accuracy: 0.9488, Validation Accuracy: 0.9512, Loss: 0.0428\n",
      "Epoch   3 Batch  330/538 - Train Accuracy: 0.9622, Validation Accuracy: 0.9434, Loss: 0.0451\n",
      "Epoch   3 Batch  340/538 - Train Accuracy: 0.9369, Validation Accuracy: 0.9403, Loss: 0.0472\n",
      "Epoch   3 Batch  350/538 - Train Accuracy: 0.9475, Validation Accuracy: 0.9382, Loss: 0.0535\n",
      "Epoch   3 Batch  360/538 - Train Accuracy: 0.9443, Validation Accuracy: 0.9574, Loss: 0.0437\n",
      "Epoch   3 Batch  370/538 - Train Accuracy: 0.9541, Validation Accuracy: 0.9503, Loss: 0.0433\n",
      "Epoch   3 Batch  380/538 - Train Accuracy: 0.9416, Validation Accuracy: 0.9458, Loss: 0.0407\n",
      "Epoch   3 Batch  390/538 - Train Accuracy: 0.9580, Validation Accuracy: 0.9425, Loss: 0.0410\n",
      "Epoch   3 Batch  400/538 - Train Accuracy: 0.9544, Validation Accuracy: 0.9482, Loss: 0.0455\n",
      "Epoch   3 Batch  410/538 - Train Accuracy: 0.9527, Validation Accuracy: 0.9462, Loss: 0.0474\n",
      "Epoch   3 Batch  420/538 - Train Accuracy: 0.9504, Validation Accuracy: 0.9442, Loss: 0.0447\n",
      "Epoch   3 Batch  430/538 - Train Accuracy: 0.9396, Validation Accuracy: 0.9531, Loss: 0.0422\n",
      "Epoch   3 Batch  440/538 - Train Accuracy: 0.9437, Validation Accuracy: 0.9435, Loss: 0.0481\n",
      "Epoch   3 Batch  450/538 - Train Accuracy: 0.9302, Validation Accuracy: 0.9480, Loss: 0.0578\n",
      "Epoch   3 Batch  460/538 - Train Accuracy: 0.9358, Validation Accuracy: 0.9505, Loss: 0.0513\n",
      "Epoch   3 Batch  470/538 - Train Accuracy: 0.9446, Validation Accuracy: 0.9451, Loss: 0.0424\n",
      "Epoch   3 Batch  480/538 - Train Accuracy: 0.9593, Validation Accuracy: 0.9466, Loss: 0.0405\n",
      "Epoch   3 Batch  490/538 - Train Accuracy: 0.9382, Validation Accuracy: 0.9522, Loss: 0.0398\n",
      "Epoch   3 Batch  500/538 - Train Accuracy: 0.9677, Validation Accuracy: 0.9451, Loss: 0.0320\n",
      "Epoch   3 Batch  510/538 - Train Accuracy: 0.9520, Validation Accuracy: 0.9531, Loss: 0.0400\n",
      "Epoch   3 Batch  520/538 - Train Accuracy: 0.9648, Validation Accuracy: 0.9656, Loss: 0.0360\n",
      "Epoch   3 Batch  530/538 - Train Accuracy: 0.9432, Validation Accuracy: 0.9657, Loss: 0.0446\n",
      "Epoch   4 Batch   10/538 - Train Accuracy: 0.9572, Validation Accuracy: 0.9579, Loss: 0.0428\n",
      "Epoch   4 Batch   20/538 - Train Accuracy: 0.9379, Validation Accuracy: 0.9537, Loss: 0.0416\n",
      "Epoch   4 Batch   30/538 - Train Accuracy: 0.9479, Validation Accuracy: 0.9524, Loss: 0.0423\n",
      "Epoch   4 Batch   40/538 - Train Accuracy: 0.9535, Validation Accuracy: 0.9496, Loss: 0.0329\n",
      "Epoch   4 Batch   50/538 - Train Accuracy: 0.9498, Validation Accuracy: 0.9471, Loss: 0.0373\n",
      "Epoch   4 Batch   60/538 - Train Accuracy: 0.9443, Validation Accuracy: 0.9535, Loss: 0.0399\n",
      "Epoch   4 Batch   70/538 - Train Accuracy: 0.9520, Validation Accuracy: 0.9561, Loss: 0.0358\n",
      "Epoch   4 Batch   80/538 - Train Accuracy: 0.9400, Validation Accuracy: 0.9553, Loss: 0.0396\n",
      "Epoch   4 Batch   90/538 - Train Accuracy: 0.9505, Validation Accuracy: 0.9469, Loss: 0.0414\n",
      "Epoch   4 Batch  100/538 - Train Accuracy: 0.9637, Validation Accuracy: 0.9547, Loss: 0.0356\n",
      "Epoch   4 Batch  110/538 - Train Accuracy: 0.9574, Validation Accuracy: 0.9563, Loss: 0.0348\n",
      "Epoch   4 Batch  120/538 - Train Accuracy: 0.9738, Validation Accuracy: 0.9641, Loss: 0.0260\n",
      "Epoch   4 Batch  130/538 - Train Accuracy: 0.9580, Validation Accuracy: 0.9668, Loss: 0.0327\n",
      "Epoch   4 Batch  140/538 - Train Accuracy: 0.9420, Validation Accuracy: 0.9565, Loss: 0.0495\n",
      "Epoch   4 Batch  150/538 - Train Accuracy: 0.9734, Validation Accuracy: 0.9432, Loss: 0.0344\n",
      "Epoch   4 Batch  160/538 - Train Accuracy: 0.9422, Validation Accuracy: 0.9510, Loss: 0.0340\n",
      "Epoch   4 Batch  170/538 - Train Accuracy: 0.9503, Validation Accuracy: 0.9462, Loss: 0.0392\n",
      "Epoch   4 Batch  180/538 - Train Accuracy: 0.9461, Validation Accuracy: 0.9563, Loss: 0.0379\n",
      "Epoch   4 Batch  190/538 - Train Accuracy: 0.9381, Validation Accuracy: 0.9544, Loss: 0.0485\n",
      "Epoch   4 Batch  200/538 - Train Accuracy: 0.9584, Validation Accuracy: 0.9549, Loss: 0.0308\n",
      "Epoch   4 Batch  210/538 - Train Accuracy: 0.9576, Validation Accuracy: 0.9576, Loss: 0.0372\n",
      "Epoch   4 Batch  220/538 - Train Accuracy: 0.9500, Validation Accuracy: 0.9515, Loss: 0.0381\n",
      "Epoch   4 Batch  230/538 - Train Accuracy: 0.9436, Validation Accuracy: 0.9558, Loss: 0.0325\n",
      "Epoch   4 Batch  240/538 - Train Accuracy: 0.9670, Validation Accuracy: 0.9640, Loss: 0.0364\n",
      "Epoch   4 Batch  250/538 - Train Accuracy: 0.9566, Validation Accuracy: 0.9474, Loss: 0.0372\n",
      "Epoch   4 Batch  260/538 - Train Accuracy: 0.9304, Validation Accuracy: 0.9522, Loss: 0.0384\n",
      "Epoch   4 Batch  270/538 - Train Accuracy: 0.9672, Validation Accuracy: 0.9521, Loss: 0.0311\n",
      "Epoch   4 Batch  280/538 - Train Accuracy: 0.9639, Validation Accuracy: 0.9586, Loss: 0.0290\n",
      "Epoch   4 Batch  290/538 - Train Accuracy: 0.9787, Validation Accuracy: 0.9510, Loss: 0.0303\n",
      "Epoch   4 Batch  300/538 - Train Accuracy: 0.9466, Validation Accuracy: 0.9615, Loss: 0.0365\n",
      "Epoch   4 Batch  310/538 - Train Accuracy: 0.9617, Validation Accuracy: 0.9616, Loss: 0.0355\n",
      "Epoch   4 Batch  320/538 - Train Accuracy: 0.9611, Validation Accuracy: 0.9675, Loss: 0.0303\n",
      "Epoch   4 Batch  330/538 - Train Accuracy: 0.9764, Validation Accuracy: 0.9611, Loss: 0.0300\n",
      "Epoch   4 Batch  340/538 - Train Accuracy: 0.9463, Validation Accuracy: 0.9597, Loss: 0.0357\n",
      "Epoch   4 Batch  350/538 - Train Accuracy: 0.9591, Validation Accuracy: 0.9561, Loss: 0.0389\n",
      "Epoch   4 Batch  360/538 - Train Accuracy: 0.9615, Validation Accuracy: 0.9599, Loss: 0.0337\n",
      "Epoch   4 Batch  370/538 - Train Accuracy: 0.9607, Validation Accuracy: 0.9547, Loss: 0.0298\n",
      "Epoch   4 Batch  380/538 - Train Accuracy: 0.9533, Validation Accuracy: 0.9537, Loss: 0.0314\n",
      "Epoch   4 Batch  390/538 - Train Accuracy: 0.9594, Validation Accuracy: 0.9592, Loss: 0.0284\n",
      "Epoch   4 Batch  400/538 - Train Accuracy: 0.9689, Validation Accuracy: 0.9641, Loss: 0.0303\n",
      "Epoch   4 Batch  410/538 - Train Accuracy: 0.9682, Validation Accuracy: 0.9593, Loss: 0.0332\n",
      "Epoch   4 Batch  420/538 - Train Accuracy: 0.9580, Validation Accuracy: 0.9489, Loss: 0.0332\n",
      "Epoch   4 Batch  430/538 - Train Accuracy: 0.9439, Validation Accuracy: 0.9528, Loss: 0.0329\n",
      "Epoch   4 Batch  440/538 - Train Accuracy: 0.9494, Validation Accuracy: 0.9570, Loss: 0.0338\n",
      "Epoch   4 Batch  450/538 - Train Accuracy: 0.9388, Validation Accuracy: 0.9606, Loss: 0.0386\n",
      "Epoch   4 Batch  460/538 - Train Accuracy: 0.9436, Validation Accuracy: 0.9533, Loss: 0.0339\n",
      "Epoch   4 Batch  470/538 - Train Accuracy: 0.9583, Validation Accuracy: 0.9576, Loss: 0.0311\n",
      "Epoch   4 Batch  480/538 - Train Accuracy: 0.9648, Validation Accuracy: 0.9592, Loss: 0.0292\n",
      "Epoch   4 Batch  490/538 - Train Accuracy: 0.9678, Validation Accuracy: 0.9652, Loss: 0.0276\n",
      "Epoch   4 Batch  500/538 - Train Accuracy: 0.9767, Validation Accuracy: 0.9522, Loss: 0.0237\n",
      "Epoch   4 Batch  510/538 - Train Accuracy: 0.9676, Validation Accuracy: 0.9540, Loss: 0.0272\n",
      "Epoch   4 Batch  520/538 - Train Accuracy: 0.9783, Validation Accuracy: 0.9535, Loss: 0.0286\n",
      "Epoch   4 Batch  530/538 - Train Accuracy: 0.9691, Validation Accuracy: 0.9703, Loss: 0.0326\n",
      "Model Trained and Saved\n"
     ]
    }
   ],
   "source": [
    "\"\"\"\n",
    "DON'T MODIFY ANYTHING IN THIS CELL\n",
    "\"\"\"\n",
    "def get_accuracy(target, logits):\n",
    "    \"\"\"\n",
    "    Calculate accuracy\n",
    "    \"\"\"\n",
    "    max_seq = max(target.shape[1], logits.shape[1])\n",
    "    if max_seq - target.shape[1]:\n",
    "        target = np.pad(\n",
    "            target,\n",
    "            [(0,0),(0,max_seq - target.shape[1])],\n",
    "            'constant')\n",
    "    if max_seq - logits.shape[1]:\n",
    "        logits = np.pad(\n",
    "            logits,\n",
    "            [(0,0),(0,max_seq - logits.shape[1])],\n",
    "            'constant')\n",
    "\n",
    "    return np.mean(np.equal(target, logits))\n",
    "\n",
    "# Split data to training and validation sets\n",
    "train_source = source_int_text[batch_size:]\n",
    "train_target = target_int_text[batch_size:]\n",
    "valid_source = source_int_text[:batch_size]\n",
    "valid_target = target_int_text[:batch_size]\n",
    "(valid_sources_batch, valid_targets_batch, valid_sources_lengths, valid_targets_lengths ) = next(get_batches(valid_source,\n",
    "                                                                                                             valid_target,\n",
    "                                                                                                             batch_size,\n",
    "                                                                                                             source_vocab_to_int['<PAD>'],\n",
    "                                                                                                             target_vocab_to_int['<PAD>']))                                                                                                  \n",
    "with tf.Session(graph=train_graph) as sess:\n",
    "    sess.run(tf.global_variables_initializer())\n",
    "\n",
    "    for epoch_i in range(epochs):\n",
    "        for batch_i, (source_batch, target_batch, sources_lengths, targets_lengths) in enumerate(\n",
    "                get_batches(train_source, train_target, batch_size,\n",
    "                            source_vocab_to_int['<PAD>'],\n",
    "                            target_vocab_to_int['<PAD>'])):\n",
    "\n",
    "            _, loss = sess.run(\n",
    "                [train_op, cost],\n",
    "                {input_data: source_batch,\n",
    "                 targets: target_batch,\n",
    "                 lr: learning_rate,\n",
    "                 target_sequence_length: targets_lengths,\n",
    "                 source_sequence_length: sources_lengths,\n",
    "                 keep_prob: keep_probability})\n",
    "\n",
    "\n",
    "            if batch_i % display_step == 0 and batch_i > 0:\n",
    "\n",
    "\n",
    "                batch_train_logits = sess.run(\n",
    "                    inference_logits,\n",
    "                    {input_data: source_batch,\n",
    "                     source_sequence_length: sources_lengths,\n",
    "                     target_sequence_length: targets_lengths,\n",
    "                     keep_prob: 1.0})\n",
    "\n",
    "\n",
    "                batch_valid_logits = sess.run(\n",
    "                    inference_logits,\n",
    "                    {input_data: valid_sources_batch,\n",
    "                     source_sequence_length: valid_sources_lengths,\n",
    "                     target_sequence_length: valid_targets_lengths,\n",
    "                     keep_prob: 1.0})\n",
    "\n",
    "                train_acc = get_accuracy(target_batch, batch_train_logits)\n",
    "\n",
    "                valid_acc = get_accuracy(valid_targets_batch, batch_valid_logits)\n",
    "\n",
    "                print('Epoch {:>3} Batch {:>4}/{} - Train Accuracy: {:>6.4f}, Validation Accuracy: {:>6.4f}, Loss: {:>6.4f}'\n",
    "                      .format(epoch_i, batch_i, len(source_int_text) // batch_size, train_acc, valid_acc, loss))\n",
    "\n",
    "    # Save Model\n",
    "    saver = tf.train.Saver()\n",
    "    saver.save(sess, save_path)\n",
    "    print('Model Trained and Saved')"
   ]
  },
  {
   "cell_type": "markdown",
   "metadata": {
    "deletable": true,
    "editable": true
   },
   "source": [
    "### Save Parameters\n",
    "Save the `batch_size` and `save_path` parameters for inference."
   ]
  },
  {
   "cell_type": "code",
   "execution_count": 18,
   "metadata": {
    "collapsed": true,
    "deletable": true,
    "editable": true
   },
   "outputs": [],
   "source": [
    "\"\"\"\n",
    "DON'T MODIFY ANYTHING IN THIS CELL\n",
    "\"\"\"\n",
    "# Save parameters for checkpoint\n",
    "helper.save_params(save_path)"
   ]
  },
  {
   "cell_type": "markdown",
   "metadata": {
    "deletable": true,
    "editable": true
   },
   "source": [
    "# Checkpoint"
   ]
  },
  {
   "cell_type": "code",
   "execution_count": 19,
   "metadata": {
    "collapsed": true,
    "deletable": true,
    "editable": true
   },
   "outputs": [],
   "source": [
    "\"\"\"\n",
    "DON'T MODIFY ANYTHING IN THIS CELL\n",
    "\"\"\"\n",
    "import tensorflow as tf\n",
    "import numpy as np\n",
    "import helper\n",
    "import problem_unittests as tests\n",
    "\n",
    "_, (source_vocab_to_int, target_vocab_to_int), (source_int_to_vocab, target_int_to_vocab) = helper.load_preprocess()\n",
    "load_path = helper.load_params()"
   ]
  },
  {
   "cell_type": "markdown",
   "metadata": {
    "deletable": true,
    "editable": true
   },
   "source": [
    "## Sentence to Sequence\n",
    "To feed a sentence into the model for translation, you first need to preprocess it.  Implement the function `sentence_to_seq()` to preprocess new sentences.\n",
    "\n",
    "- Convert the sentence to lowercase\n",
    "- Convert words into ids using `vocab_to_int`\n",
    " - Convert words not in the vocabulary, to the `<UNK>` word id."
   ]
  },
  {
   "cell_type": "code",
   "execution_count": 20,
   "metadata": {
    "collapsed": false,
    "deletable": true,
    "editable": true
   },
   "outputs": [
    {
     "name": "stdout",
     "output_type": "stream",
     "text": [
      "Tests Passed\n"
     ]
    }
   ],
   "source": [
    "def sentence_to_seq(sentence, vocab_to_int):\n",
    "    \"\"\"\n",
    "    Convert a sentence to a sequence of ids\n",
    "    :param sentence: String\n",
    "    :param vocab_to_int: Dictionary to go from the words to an id\n",
    "    :return: List of word ids\n",
    "    \"\"\"\n",
    "    unknown = vocab_to_int[\"<UNK>\"]\n",
    "    return [vocab_to_int.get(word, unknown) for word in sentence.lower().split()]\n",
    "\n",
    "\"\"\"\n",
    "DON'T MODIFY ANYTHING IN THIS CELL THAT IS BELOW THIS LINE\n",
    "\"\"\"\n",
    "tests.test_sentence_to_seq(sentence_to_seq)"
   ]
  },
  {
   "cell_type": "markdown",
   "metadata": {
    "deletable": true,
    "editable": true
   },
   "source": [
    "## Translate\n",
    "This will translate `translate_sentence` from English to French."
   ]
  },
  {
   "cell_type": "code",
   "execution_count": 21,
   "metadata": {
    "collapsed": false,
    "deletable": true,
    "editable": true
   },
   "outputs": [
    {
     "name": "stdout",
     "output_type": "stream",
     "text": [
      "INFO:tensorflow:Restoring parameters from checkpoints/dev\n",
      "Input\n",
      "  Word Ids:      [47, 124, 22, 66, 174, 164, 79]\n",
      "  English Words: ['he', 'saw', 'a', 'old', 'yellow', 'truck', '.']\n",
      "\n",
      "Prediction\n",
      "  Word Ids:      [116, 11, 206, 341, 94, 264, 186, 289, 1]\n",
      "  French Words: il a vu la vieille voiture jaune . <EOS>\n"
     ]
    }
   ],
   "source": [
    "translate_sentence = 'he saw a old yellow truck .'\n",
    "\n",
    "\n",
    "\"\"\"\n",
    "DON'T MODIFY ANYTHING IN THIS CELL\n",
    "\"\"\"\n",
    "translate_sentence = sentence_to_seq(translate_sentence, source_vocab_to_int)\n",
    "\n",
    "loaded_graph = tf.Graph()\n",
    "with tf.Session(graph=loaded_graph) as sess:\n",
    "    # Load saved model\n",
    "    loader = tf.train.import_meta_graph(load_path + '.meta')\n",
    "    loader.restore(sess, load_path)\n",
    "\n",
    "    input_data = loaded_graph.get_tensor_by_name('input:0')\n",
    "    logits = loaded_graph.get_tensor_by_name('predictions:0')\n",
    "    target_sequence_length = loaded_graph.get_tensor_by_name('target_sequence_length:0')\n",
    "    source_sequence_length = loaded_graph.get_tensor_by_name('source_sequence_length:0')\n",
    "    keep_prob = loaded_graph.get_tensor_by_name('keep_prob:0')\n",
    "\n",
    "    translate_logits = sess.run(logits, {input_data: [translate_sentence]*batch_size,\n",
    "                                         target_sequence_length: [len(translate_sentence)*2]*batch_size,\n",
    "                                         source_sequence_length: [len(translate_sentence)]*batch_size,\n",
    "                                         keep_prob: 1.0})[0]\n",
    "\n",
    "print('Input')\n",
    "print('  Word Ids:      {}'.format([i for i in translate_sentence]))\n",
    "print('  English Words: {}'.format([source_int_to_vocab[i] for i in translate_sentence]))\n",
    "\n",
    "print('\\nPrediction')\n",
    "print('  Word Ids:      {}'.format([i for i in translate_logits]))\n",
    "print('  French Words: {}'.format(\" \".join([target_int_to_vocab[i] for i in translate_logits])))\n"
   ]
  },
  {
   "cell_type": "markdown",
   "metadata": {
    "deletable": true,
    "editable": true
   },
   "source": [
    "## Imperfect Translation\n",
    "You might notice that some sentences translate better than others.  Since the dataset you're using only has a vocabulary of 227 English words of the thousands that you use, you're only going to see good results using these words.  For this project, you don't need a perfect translation. However, if you want to create a better translation model, you'll need better data.\n",
    "\n",
    "You can train on the [WMT10 French-English corpus](http://www.statmt.org/wmt10/training-giga-fren.tar).  This dataset has more vocabulary and richer in topics discussed.  However, this will take you days to train, so make sure you've a GPU and the neural network is performing well on dataset we provided.  Just make sure you play with the WMT10 corpus after you've submitted this project.\n",
    "## Submitting This Project\n",
    "When submitting this project, make sure to run all the cells before saving the notebook. Save the notebook file as \"dlnd_language_translation.ipynb\" and save it as a HTML file under \"File\" -> \"Download as\". Include the \"helper.py\" and \"problem_unittests.py\" files in your submission."
   ]
  }
 ],
 "metadata": {
  "anaconda-cloud": {},
  "kernelspec": {
   "display_name": "Python 3",
   "language": "python",
   "name": "python3"
  },
  "language_info": {
   "codemirror_mode": {
    "name": "ipython",
    "version": 3
   },
   "file_extension": ".py",
   "mimetype": "text/x-python",
   "name": "python",
   "nbconvert_exporter": "python",
   "pygments_lexer": "ipython3",
   "version": "3.6.0"
  }
 },
 "nbformat": 4,
 "nbformat_minor": 1
}
